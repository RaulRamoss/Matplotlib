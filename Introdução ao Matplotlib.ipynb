{
 "cells": [
  {
   "cell_type": "markdown",
   "metadata": {},
   "source": [
    "# Matplotlib\n",
    "- https://matplotlib.org/\n",
    "- Permite a criação de visualizações estáticas mais simples até os gráficos mais complexos e elaborados\n",
    "- Como diz a própria documentação, ele torna o que é fácil, fácil e as coisas difíceis, possíveis de serem feitas!\n",
    "- Ela é bem completa e também é útil para analytics\n",
    "- Não possui tanta customização quanto outras bibliotecas e **pode deixar a desejar no apelo estético em alguns casos**\n",
    "\n",
    "### Pyplot\n",
    "- O Pyplot é o módulo do matplotlib que possui os gráficos básicos normalmente usados nessa biblioteca\n",
    "- Vamos usar bastante o pyplot e, por isso, vamos importar diretamente esse módulo"
   ]
  },
  {
   "cell_type": "code",
   "execution_count": 43,
   "metadata": {},
   "outputs": [
    {
     "data": {
      "image/png": "[encoded data removed]",
      "text/plain": [
       "<Figure size 432x288 with 1 Axes>"
      ]
     },
     "metadata": {
      "needs_background": "light"
     },
     "output_type": "display_data"
    }
   ],
   "source": [
    "# Criando nosso primeiro plot\n",
    "# Disponívem em: https://matplotlib.org/stable/users/getting_started/\n",
    "import matplotlib.pyplot as plt\n",
    "\n",
    "x = [1,2,3,4,5,6]\n",
    "y = [1,4,9,16,25,36]\n",
    "\n",
    "fig, ax = plt.subplots()\n",
    "ax.plot(x, y)\n",
    "plt.show()"
   ]
  },
  {
   "cell_type": "code",
   "execution_count": 44,
   "metadata": {},
   "outputs": [],
   "source": [
    "# Importando o pyplot\n",
    "import matplotlib.pyplot as plt\n",
    "\n",
    "# Importando as outras bibliotecas\n",
    "import numpy as np\n",
    "import pandas as pd\n",
    "import datetime as dt"
   ]
  },
  {
   "cell_type": "markdown",
   "metadata": {},
   "source": [
    "### Vamos usar a base do Instagram que vimos no primeiro projeto e já aplicar todas as transformações"
   ]
  },
  {
   "cell_type": "code",
   "execution_count": 45,
   "metadata": {},
   "outputs": [],
   "source": [
    "# Importar a base em excel\n",
    "base = pd.read_excel(\"08. Analisando o engajamento no Instagram.xlsx\")\n",
    "# Apagando a coluna \"Visualizações\"\n",
    "base = base.drop(\"Visualizações\",axis=1)\n",
    "# Agora vamos atribuir o valor N para essa coluna\n",
    "base.loc[base.Carrossel.isnull(),\"Carrossel\"] = \"N\""
   ]
  },
  {
   "cell_type": "code",
   "execution_count": 46,
   "metadata": {},
   "outputs": [
    {
     "data": {
      "text/html": [
       "<div>\n",
       "<style scoped>\n",
       "    .dataframe tbody tr th:only-of-type {\n",
       "        vertical-align: middle;\n",
       "    }\n",
       "\n",
       "    .dataframe tbody tr th {\n",
       "        vertical-align: top;\n",
       "    }\n",
       "\n",
       "    .dataframe thead th {\n",
       "        text-align: right;\n",
       "    }\n",
       "</style>\n",
       "<table border=\"1\" class=\"dataframe\">\n",
       "  <thead>\n",
       "    <tr style=\"text-align: right;\">\n",
       "      <th></th>\n",
       "      <th>Tipo</th>\n",
       "      <th>Data</th>\n",
       "      <th>Curtidas</th>\n",
       "      <th>Comentários</th>\n",
       "      <th>Tags</th>\n",
       "      <th>Pessoas</th>\n",
       "      <th>Campanhas</th>\n",
       "      <th>Carrossel</th>\n",
       "      <th>Interacoes</th>\n",
       "    </tr>\n",
       "  </thead>\n",
       "  <tbody>\n",
       "    <tr>\n",
       "      <th>0</th>\n",
       "      <td>Foto</td>\n",
       "      <td>2021-09-11</td>\n",
       "      <td>2858</td>\n",
       "      <td>16</td>\n",
       "      <td>Loja</td>\n",
       "      <td>N</td>\n",
       "      <td>N</td>\n",
       "      <td>N</td>\n",
       "      <td>2874</td>\n",
       "    </tr>\n",
       "    <tr>\n",
       "      <th>1</th>\n",
       "      <td>Foto</td>\n",
       "      <td>2021-09-11</td>\n",
       "      <td>2930</td>\n",
       "      <td>28</td>\n",
       "      <td>Loja/Produtos</td>\n",
       "      <td>N</td>\n",
       "      <td>N</td>\n",
       "      <td>N</td>\n",
       "      <td>2958</td>\n",
       "    </tr>\n",
       "    <tr>\n",
       "      <th>2</th>\n",
       "      <td>Foto</td>\n",
       "      <td>2021-09-11</td>\n",
       "      <td>2807</td>\n",
       "      <td>9</td>\n",
       "      <td>Loja</td>\n",
       "      <td>N</td>\n",
       "      <td>N</td>\n",
       "      <td>N</td>\n",
       "      <td>2816</td>\n",
       "    </tr>\n",
       "    <tr>\n",
       "      <th>3</th>\n",
       "      <td>Vídeo</td>\n",
       "      <td>2021-09-12</td>\n",
       "      <td>5115</td>\n",
       "      <td>49</td>\n",
       "      <td>Produtos</td>\n",
       "      <td>N</td>\n",
       "      <td>N</td>\n",
       "      <td>N</td>\n",
       "      <td>5164</td>\n",
       "    </tr>\n",
       "    <tr>\n",
       "      <th>4</th>\n",
       "      <td>Foto</td>\n",
       "      <td>2021-09-13</td>\n",
       "      <td>4392</td>\n",
       "      <td>45</td>\n",
       "      <td>Produtos</td>\n",
       "      <td>S</td>\n",
       "      <td>N</td>\n",
       "      <td>N</td>\n",
       "      <td>4437</td>\n",
       "    </tr>\n",
       "  </tbody>\n",
       "</table>\n",
       "</div>"
      ],
      "text/plain": [
       "    Tipo       Data  Curtidas  Comentários           Tags Pessoas Campanhas  \\\n",
       "0   Foto 2021-09-11      2858           16           Loja       N         N   \n",
       "1   Foto 2021-09-11      2930           28  Loja/Produtos       N         N   \n",
       "2   Foto 2021-09-11      2807            9           Loja       N         N   \n",
       "3  Vídeo 2021-09-12      5115           49       Produtos       N         N   \n",
       "4   Foto 2021-09-13      4392           45       Produtos       S         N   \n",
       "\n",
       "  Carrossel  Interacoes   \n",
       "0         N         2874  \n",
       "1         N         2958  \n",
       "2         N         2816  \n",
       "3         N         5164  \n",
       "4         N         4437  "
      ]
     },
     "execution_count": 46,
     "metadata": {},
     "output_type": "execute_result"
    }
   ],
   "source": [
    "base.head()"
   ]
  },
  {
   "cell_type": "markdown",
   "metadata": {},
   "source": [
    "## Criando um plot no matplotlib\n",
    "- https://matplotlib.org/stable/plot_types/basic/plot.html"
   ]
  },
  {
   "cell_type": "code",
   "execution_count": 47,
   "metadata": {},
   "outputs": [
    {
     "data": {
      "image/png": "[encoded data removed]",
      "text/plain": [
       "<Figure size 432x288 with 1 Axes>"
      ]
     },
     "metadata": {
      "needs_background": "light"
     },
     "output_type": "display_data"
    }
   ],
   "source": [
    "import matplotlib.pyplot as plt\n",
    "import numpy as np\n",
    "\n",
    "# make data\n",
    "x = np.linspace(0, 10, 100)\n",
    "y = 4 + 2 * np.sin(2 * x)\n",
    "\n",
    "# plot\n",
    "fig, ax = plt.subplots()\n",
    "\n",
    "ax.plot(x, y,'r--', linewidth=2.0)\n",
    "\n",
    "ax.set(xlim=(0,8),xticks=np.arange(0, 9),\n",
    "      ylim=(0, 8), yticks=np.arange(0, 9))\n",
    "\n",
    "plt.show()"
   ]
  },
  {
   "cell_type": "code",
   "execution_count": 48,
   "metadata": {},
   "outputs": [
    {
     "data": {
      "image/png": "[encoded data removed]",
      "text/plain": [
       "<Figure size 432x288 with 1 Axes>"
      ]
     },
     "metadata": {
      "needs_background": "light"
     },
     "output_type": "display_data"
    }
   ],
   "source": [
    "# make data\n",
    "x = base.Data\n",
    "y = base.Curtidas\n",
    "\n",
    "# plot\n",
    "fig, ax = plt.subplots()\n",
    "\n",
    "ax.plot(x, y)\n",
    "\n",
    "plt.show()"
   ]
  },
  {
   "cell_type": "markdown",
   "metadata": {},
   "source": [
    "### Será que existe uma tendência de queda nas curtidas?\n",
    "- Vamos fazer uma análise mensal\n",
    "    - Para isso precisamos criar a coluna mês/ano"
   ]
  },
  {
   "cell_type": "code",
   "execution_count": 49,
   "metadata": {},
   "outputs": [
    {
     "data": {
      "text/html": [
       "<div>\n",
       "<style scoped>\n",
       "    .dataframe tbody tr th:only-of-type {\n",
       "        vertical-align: middle;\n",
       "    }\n",
       "\n",
       "    .dataframe tbody tr th {\n",
       "        vertical-align: top;\n",
       "    }\n",
       "\n",
       "    .dataframe thead th {\n",
       "        text-align: right;\n",
       "    }\n",
       "</style>\n",
       "<table border=\"1\" class=\"dataframe\">\n",
       "  <thead>\n",
       "    <tr style=\"text-align: right;\">\n",
       "      <th></th>\n",
       "      <th>Tipo</th>\n",
       "      <th>Data</th>\n",
       "      <th>Curtidas</th>\n",
       "      <th>Comentários</th>\n",
       "      <th>Tags</th>\n",
       "      <th>Pessoas</th>\n",
       "      <th>Campanhas</th>\n",
       "      <th>Carrossel</th>\n",
       "      <th>Interacoes</th>\n",
       "    </tr>\n",
       "  </thead>\n",
       "  <tbody>\n",
       "    <tr>\n",
       "      <th>0</th>\n",
       "      <td>Foto</td>\n",
       "      <td>2021-09-11</td>\n",
       "      <td>2858</td>\n",
       "      <td>16</td>\n",
       "      <td>Loja</td>\n",
       "      <td>N</td>\n",
       "      <td>N</td>\n",
       "      <td>N</td>\n",
       "      <td>2874</td>\n",
       "    </tr>\n",
       "    <tr>\n",
       "      <th>1</th>\n",
       "      <td>Foto</td>\n",
       "      <td>2021-09-11</td>\n",
       "      <td>2930</td>\n",
       "      <td>28</td>\n",
       "      <td>Loja/Produtos</td>\n",
       "      <td>N</td>\n",
       "      <td>N</td>\n",
       "      <td>N</td>\n",
       "      <td>2958</td>\n",
       "    </tr>\n",
       "    <tr>\n",
       "      <th>2</th>\n",
       "      <td>Foto</td>\n",
       "      <td>2021-09-11</td>\n",
       "      <td>2807</td>\n",
       "      <td>9</td>\n",
       "      <td>Loja</td>\n",
       "      <td>N</td>\n",
       "      <td>N</td>\n",
       "      <td>N</td>\n",
       "      <td>2816</td>\n",
       "    </tr>\n",
       "    <tr>\n",
       "      <th>3</th>\n",
       "      <td>Vídeo</td>\n",
       "      <td>2021-09-12</td>\n",
       "      <td>5115</td>\n",
       "      <td>49</td>\n",
       "      <td>Produtos</td>\n",
       "      <td>N</td>\n",
       "      <td>N</td>\n",
       "      <td>N</td>\n",
       "      <td>5164</td>\n",
       "    </tr>\n",
       "    <tr>\n",
       "      <th>4</th>\n",
       "      <td>Foto</td>\n",
       "      <td>2021-09-13</td>\n",
       "      <td>4392</td>\n",
       "      <td>45</td>\n",
       "      <td>Produtos</td>\n",
       "      <td>S</td>\n",
       "      <td>N</td>\n",
       "      <td>N</td>\n",
       "      <td>4437</td>\n",
       "    </tr>\n",
       "  </tbody>\n",
       "</table>\n",
       "</div>"
      ],
      "text/plain": [
       "    Tipo       Data  Curtidas  Comentários           Tags Pessoas Campanhas  \\\n",
       "0   Foto 2021-09-11      2858           16           Loja       N         N   \n",
       "1   Foto 2021-09-11      2930           28  Loja/Produtos       N         N   \n",
       "2   Foto 2021-09-11      2807            9           Loja       N         N   \n",
       "3  Vídeo 2021-09-12      5115           49       Produtos       N         N   \n",
       "4   Foto 2021-09-13      4392           45       Produtos       S         N   \n",
       "\n",
       "  Carrossel  Interacoes   \n",
       "0         N         2874  \n",
       "1         N         2958  \n",
       "2         N         2816  \n",
       "3         N         5164  \n",
       "4         N         4437  "
      ]
     },
     "execution_count": 49,
     "metadata": {},
     "output_type": "execute_result"
    }
   ],
   "source": [
    "base.head()"
   ]
  },
  {
   "cell_type": "code",
   "execution_count": 50,
   "metadata": {},
   "outputs": [],
   "source": [
    "import datetime as dt"
   ]
  },
  {
   "cell_type": "code",
   "execution_count": 51,
   "metadata": {},
   "outputs": [
    {
     "data": {
      "text/html": [
       "<div>\n",
       "<style scoped>\n",
       "    .dataframe tbody tr th:only-of-type {\n",
       "        vertical-align: middle;\n",
       "    }\n",
       "\n",
       "    .dataframe tbody tr th {\n",
       "        vertical-align: top;\n",
       "    }\n",
       "\n",
       "    .dataframe thead th {\n",
       "        text-align: right;\n",
       "    }\n",
       "</style>\n",
       "<table border=\"1\" class=\"dataframe\">\n",
       "  <thead>\n",
       "    <tr style=\"text-align: right;\">\n",
       "      <th></th>\n",
       "      <th>Tipo</th>\n",
       "      <th>Data</th>\n",
       "      <th>Curtidas</th>\n",
       "      <th>Comentários</th>\n",
       "      <th>Tags</th>\n",
       "      <th>Pessoas</th>\n",
       "      <th>Campanhas</th>\n",
       "      <th>Carrossel</th>\n",
       "      <th>Interacoes</th>\n",
       "      <th>mes</th>\n",
       "    </tr>\n",
       "  </thead>\n",
       "  <tbody>\n",
       "    <tr>\n",
       "      <th>0</th>\n",
       "      <td>Foto</td>\n",
       "      <td>2021-09-11</td>\n",
       "      <td>2858</td>\n",
       "      <td>16</td>\n",
       "      <td>Loja</td>\n",
       "      <td>N</td>\n",
       "      <td>N</td>\n",
       "      <td>N</td>\n",
       "      <td>2874</td>\n",
       "      <td>202109</td>\n",
       "    </tr>\n",
       "    <tr>\n",
       "      <th>1</th>\n",
       "      <td>Foto</td>\n",
       "      <td>2021-09-11</td>\n",
       "      <td>2930</td>\n",
       "      <td>28</td>\n",
       "      <td>Loja/Produtos</td>\n",
       "      <td>N</td>\n",
       "      <td>N</td>\n",
       "      <td>N</td>\n",
       "      <td>2958</td>\n",
       "      <td>202109</td>\n",
       "    </tr>\n",
       "    <tr>\n",
       "      <th>2</th>\n",
       "      <td>Foto</td>\n",
       "      <td>2021-09-11</td>\n",
       "      <td>2807</td>\n",
       "      <td>9</td>\n",
       "      <td>Loja</td>\n",
       "      <td>N</td>\n",
       "      <td>N</td>\n",
       "      <td>N</td>\n",
       "      <td>2816</td>\n",
       "      <td>202109</td>\n",
       "    </tr>\n",
       "    <tr>\n",
       "      <th>3</th>\n",
       "      <td>Vídeo</td>\n",
       "      <td>2021-09-12</td>\n",
       "      <td>5115</td>\n",
       "      <td>49</td>\n",
       "      <td>Produtos</td>\n",
       "      <td>N</td>\n",
       "      <td>N</td>\n",
       "      <td>N</td>\n",
       "      <td>5164</td>\n",
       "      <td>202109</td>\n",
       "    </tr>\n",
       "    <tr>\n",
       "      <th>4</th>\n",
       "      <td>Foto</td>\n",
       "      <td>2021-09-13</td>\n",
       "      <td>4392</td>\n",
       "      <td>45</td>\n",
       "      <td>Produtos</td>\n",
       "      <td>S</td>\n",
       "      <td>N</td>\n",
       "      <td>N</td>\n",
       "      <td>4437</td>\n",
       "      <td>202109</td>\n",
       "    </tr>\n",
       "  </tbody>\n",
       "</table>\n",
       "</div>"
      ],
      "text/plain": [
       "    Tipo       Data  Curtidas  Comentários           Tags Pessoas Campanhas  \\\n",
       "0   Foto 2021-09-11      2858           16           Loja       N         N   \n",
       "1   Foto 2021-09-11      2930           28  Loja/Produtos       N         N   \n",
       "2   Foto 2021-09-11      2807            9           Loja       N         N   \n",
       "3  Vídeo 2021-09-12      5115           49       Produtos       N         N   \n",
       "4   Foto 2021-09-13      4392           45       Produtos       S         N   \n",
       "\n",
       "  Carrossel  Interacoes      mes  \n",
       "0         N         2874  202109  \n",
       "1         N         2958  202109  \n",
       "2         N         2816  202109  \n",
       "3         N         5164  202109  \n",
       "4         N         4437  202109  "
      ]
     },
     "execution_count": 51,
     "metadata": {},
     "output_type": "execute_result"
    }
   ],
   "source": [
    "# Criando a coluna do mês\n",
    "base[\"mes\"] = base.Data.dt.year*100 + base.Data.dt.month\n",
    "\n",
    "# Verificando a coluna criada\n",
    "base.head()"
   ]
  },
  {
   "cell_type": "code",
   "execution_count": 52,
   "metadata": {},
   "outputs": [
    {
     "name": "stdout",
     "output_type": "stream",
     "text": [
      "mes\n",
      "202109     6181.500000\n",
      "202110    13390.400000\n",
      "202111     4682.000000\n",
      "202112    11863.833333\n",
      "202201    15913.285714\n",
      "202202    17081.363636\n",
      "202203    13299.555556\n",
      "Name: Curtidas, dtype: float64\n"
     ]
    }
   ],
   "source": [
    "# Relembrando o groupby\n",
    "media_mensal = base.groupby(\"mes\")[\"Curtidas\"].mean()\n",
    "print(media_mensal)"
   ]
  },
  {
   "cell_type": "code",
   "execution_count": 53,
   "metadata": {},
   "outputs": [
    {
     "data": {
      "text/plain": [
       "pandas.core.series.Series"
      ]
     },
     "execution_count": 53,
     "metadata": {},
     "output_type": "execute_result"
    }
   ],
   "source": [
    "type(media_mensal)"
   ]
  },
  {
   "cell_type": "code",
   "execution_count": 54,
   "metadata": {},
   "outputs": [
    {
     "data": {
      "text/plain": [
       "Int64Index([202109, 202110, 202111, 202112, 202201, 202202, 202203], dtype='int64', name='mes')"
      ]
     },
     "execution_count": 54,
     "metadata": {},
     "output_type": "execute_result"
    }
   ],
   "source": [
    "# O groupby vai ter o index\n",
    "media_mensal.index"
   ]
  },
  {
   "cell_type": "code",
   "execution_count": 55,
   "metadata": {},
   "outputs": [
    {
     "data": {
      "text/plain": [
       "array([ 6181.5       , 13390.4       ,  4682.        , 11863.83333333,\n",
       "       15913.28571429, 17081.36363636, 13299.55555556])"
      ]
     },
     "execution_count": 55,
     "metadata": {},
     "output_type": "execute_result"
    }
   ],
   "source": [
    "# E os valores\n",
    "media_mensal.values"
   ]
  },
  {
   "cell_type": "markdown",
   "metadata": {},
   "source": [
    "#### E podemos usar exatamente essas informações para criar o nosso gráfico"
   ]
  },
  {
   "cell_type": "code",
   "execution_count": 56,
   "metadata": {},
   "outputs": [
    {
     "data": {
      "image/png": "[encoded data removed]",
      "text/plain": [
       "<Figure size 432x288 with 1 Axes>"
      ]
     },
     "metadata": {
      "needs_background": "light"
     },
     "output_type": "display_data"
    }
   ],
   "source": [
    "# make data\n",
    "x = media_mensal.index\n",
    "y = media_mensal.values\n",
    "\n",
    "# plot\n",
    "fig, ax = plt.subplots()\n",
    "\n",
    "ax.plot(x, y, linewidth=1.0)\n",
    "\n",
    "plt.show()"
   ]
  },
  {
   "cell_type": "code",
   "execution_count": 57,
   "metadata": {},
   "outputs": [
    {
     "data": {
      "image/png": "[encoded data removed]",
      "text/plain": [
       "<Figure size 432x288 with 1 Axes>"
      ]
     },
     "metadata": {
      "needs_background": "light"
     },
     "output_type": "display_data"
    }
   ],
   "source": [
    "# make data\n",
    "x = media_mensal.index.astype(str)\n",
    "y = media_mensal.values\n",
    "\n",
    "# plot\n",
    "fig, ax = plt.subplots()\n",
    "\n",
    "ax.plot(x, y, linewidth=2.0)\n",
    "\n",
    "plt.show()"
   ]
  },
  {
   "cell_type": "markdown",
   "metadata": {},
   "source": [
    "## Adicionando novos dados nesse gráfico"
   ]
  },
  {
   "cell_type": "code",
   "execution_count": 58,
   "metadata": {},
   "outputs": [],
   "source": [
    "# Fazendo para o mínimo e máximo de curtidas\n",
    "minimo = base.groupby(\"mes\")[\"Curtidas\"].min()\n",
    "maximo = base.groupby(\"mes\")[\"Curtidas\"].max()"
   ]
  },
  {
   "cell_type": "code",
   "execution_count": 59,
   "metadata": {},
   "outputs": [
    {
     "data": {
      "image/png": "[encoded data removed]",
      "text/plain": [
       "<Figure size 432x288 with 1 Axes>"
      ]
     },
     "metadata": {
      "needs_background": "light"
     },
     "output_type": "display_data"
    }
   ],
   "source": [
    "# make data\n",
    "x = media_mensal.index.astype(str)\n",
    "y = media_mensal.values\n",
    "x1 = minimo.index.astype(str)\n",
    "y1 = minimo.values\n",
    "x2 = maximo.index.astype(str)\n",
    "y2 = maximo.values\n",
    "\n",
    "# plot\n",
    "fig, ax = plt.subplots()\n",
    "\n",
    "ax.plot(x, y, linewidth=2.0)\n",
    "ax.plot(x1, y1, linewidth=2.0, color=\"r\")\n",
    "ax.plot(x2, y2, linewidth=2.0, color='g')\n",
    "\n",
    "\n",
    "plt.show()"
   ]
  },
  {
   "cell_type": "markdown",
   "metadata": {},
   "source": [
    "#### Entendendo os dados dos últimos 2 meses"
   ]
  },
  {
   "cell_type": "code",
   "execution_count": 60,
   "metadata": {},
   "outputs": [
    {
     "data": {
      "text/html": [
       "<div>\n",
       "<style scoped>\n",
       "    .dataframe tbody tr th:only-of-type {\n",
       "        vertical-align: middle;\n",
       "    }\n",
       "\n",
       "    .dataframe tbody tr th {\n",
       "        vertical-align: top;\n",
       "    }\n",
       "\n",
       "    .dataframe thead th {\n",
       "        text-align: right;\n",
       "    }\n",
       "</style>\n",
       "<table border=\"1\" class=\"dataframe\">\n",
       "  <thead>\n",
       "    <tr style=\"text-align: right;\">\n",
       "      <th></th>\n",
       "      <th>Tipo</th>\n",
       "      <th>Data</th>\n",
       "      <th>Curtidas</th>\n",
       "      <th>Comentários</th>\n",
       "      <th>Tags</th>\n",
       "      <th>Pessoas</th>\n",
       "      <th>Campanhas</th>\n",
       "      <th>Carrossel</th>\n",
       "      <th>Interacoes</th>\n",
       "      <th>mes</th>\n",
       "    </tr>\n",
       "  </thead>\n",
       "  <tbody>\n",
       "    <tr>\n",
       "      <th>48</th>\n",
       "      <td>Foto</td>\n",
       "      <td>2022-03-20</td>\n",
       "      <td>29084</td>\n",
       "      <td>479</td>\n",
       "      <td>Datas comemorativas/Promoções</td>\n",
       "      <td>S</td>\n",
       "      <td>S</td>\n",
       "      <td>N</td>\n",
       "      <td>29563</td>\n",
       "      <td>202203</td>\n",
       "    </tr>\n",
       "    <tr>\n",
       "      <th>43</th>\n",
       "      <td>Foto</td>\n",
       "      <td>2022-03-04</td>\n",
       "      <td>24399</td>\n",
       "      <td>266</td>\n",
       "      <td>NaN</td>\n",
       "      <td>S</td>\n",
       "      <td>S</td>\n",
       "      <td>N</td>\n",
       "      <td>24665</td>\n",
       "      <td>202203</td>\n",
       "    </tr>\n",
       "    <tr>\n",
       "      <th>45</th>\n",
       "      <td>Reels</td>\n",
       "      <td>2022-03-08</td>\n",
       "      <td>19621</td>\n",
       "      <td>275</td>\n",
       "      <td>Trends</td>\n",
       "      <td>S</td>\n",
       "      <td>S</td>\n",
       "      <td>N</td>\n",
       "      <td>19896</td>\n",
       "      <td>202203</td>\n",
       "    </tr>\n",
       "    <tr>\n",
       "      <th>50</th>\n",
       "      <td>Foto</td>\n",
       "      <td>2022-03-26</td>\n",
       "      <td>16551</td>\n",
       "      <td>186</td>\n",
       "      <td>NaN</td>\n",
       "      <td>S</td>\n",
       "      <td>N</td>\n",
       "      <td>N</td>\n",
       "      <td>16737</td>\n",
       "      <td>202203</td>\n",
       "    </tr>\n",
       "    <tr>\n",
       "      <th>49</th>\n",
       "      <td>Foto</td>\n",
       "      <td>2022-03-22</td>\n",
       "      <td>9087</td>\n",
       "      <td>106</td>\n",
       "      <td>NaN</td>\n",
       "      <td>S</td>\n",
       "      <td>S</td>\n",
       "      <td>N</td>\n",
       "      <td>9193</td>\n",
       "      <td>202203</td>\n",
       "    </tr>\n",
       "    <tr>\n",
       "      <th>44</th>\n",
       "      <td>IGTV</td>\n",
       "      <td>2022-03-07</td>\n",
       "      <td>5918</td>\n",
       "      <td>116</td>\n",
       "      <td>Dicas de como usar/Novos Produtos</td>\n",
       "      <td>S</td>\n",
       "      <td>N</td>\n",
       "      <td>N</td>\n",
       "      <td>6034</td>\n",
       "      <td>202203</td>\n",
       "    </tr>\n",
       "    <tr>\n",
       "      <th>47</th>\n",
       "      <td>IGTV</td>\n",
       "      <td>2022-03-12</td>\n",
       "      <td>5489</td>\n",
       "      <td>77</td>\n",
       "      <td>Dicas de como usar/Novos Produtos</td>\n",
       "      <td>S</td>\n",
       "      <td>N</td>\n",
       "      <td>N</td>\n",
       "      <td>5566</td>\n",
       "      <td>202203</td>\n",
       "    </tr>\n",
       "    <tr>\n",
       "      <th>51</th>\n",
       "      <td>IGTV</td>\n",
       "      <td>2022-03-27</td>\n",
       "      <td>4934</td>\n",
       "      <td>65</td>\n",
       "      <td>Dicas de como usar/Produtos</td>\n",
       "      <td>S</td>\n",
       "      <td>N</td>\n",
       "      <td>N</td>\n",
       "      <td>4999</td>\n",
       "      <td>202203</td>\n",
       "    </tr>\n",
       "    <tr>\n",
       "      <th>46</th>\n",
       "      <td>Foto</td>\n",
       "      <td>2022-03-09</td>\n",
       "      <td>4613</td>\n",
       "      <td>50</td>\n",
       "      <td>Influenciadores</td>\n",
       "      <td>S</td>\n",
       "      <td>N</td>\n",
       "      <td>N</td>\n",
       "      <td>4663</td>\n",
       "      <td>202203</td>\n",
       "    </tr>\n",
       "    <tr>\n",
       "      <th>39</th>\n",
       "      <td>Foto</td>\n",
       "      <td>2022-02-17</td>\n",
       "      <td>37351</td>\n",
       "      <td>502</td>\n",
       "      <td>Promoções</td>\n",
       "      <td>S</td>\n",
       "      <td>S</td>\n",
       "      <td>N</td>\n",
       "      <td>37853</td>\n",
       "      <td>202202</td>\n",
       "    </tr>\n",
       "    <tr>\n",
       "      <th>33</th>\n",
       "      <td>Foto</td>\n",
       "      <td>2022-02-06</td>\n",
       "      <td>24655</td>\n",
       "      <td>186</td>\n",
       "      <td>Influenciadores</td>\n",
       "      <td>S</td>\n",
       "      <td>S</td>\n",
       "      <td>N</td>\n",
       "      <td>24841</td>\n",
       "      <td>202202</td>\n",
       "    </tr>\n",
       "    <tr>\n",
       "      <th>40</th>\n",
       "      <td>Foto</td>\n",
       "      <td>2022-02-21</td>\n",
       "      <td>21621</td>\n",
       "      <td>213</td>\n",
       "      <td>Influenciadores</td>\n",
       "      <td>S</td>\n",
       "      <td>S</td>\n",
       "      <td>S</td>\n",
       "      <td>21834</td>\n",
       "      <td>202202</td>\n",
       "    </tr>\n",
       "    <tr>\n",
       "      <th>34</th>\n",
       "      <td>Foto</td>\n",
       "      <td>2022-02-09</td>\n",
       "      <td>20660</td>\n",
       "      <td>292</td>\n",
       "      <td>Influenciadores</td>\n",
       "      <td>S</td>\n",
       "      <td>S</td>\n",
       "      <td>N</td>\n",
       "      <td>20952</td>\n",
       "      <td>202202</td>\n",
       "    </tr>\n",
       "    <tr>\n",
       "      <th>38</th>\n",
       "      <td>Foto</td>\n",
       "      <td>2022-02-15</td>\n",
       "      <td>17687</td>\n",
       "      <td>213</td>\n",
       "      <td>NaN</td>\n",
       "      <td>S</td>\n",
       "      <td>N</td>\n",
       "      <td>N</td>\n",
       "      <td>17900</td>\n",
       "      <td>202202</td>\n",
       "    </tr>\n",
       "    <tr>\n",
       "      <th>37</th>\n",
       "      <td>Vídeo</td>\n",
       "      <td>2022-02-13</td>\n",
       "      <td>15219</td>\n",
       "      <td>357</td>\n",
       "      <td>Datas comemorativas</td>\n",
       "      <td>S</td>\n",
       "      <td>S</td>\n",
       "      <td>N</td>\n",
       "      <td>15576</td>\n",
       "      <td>202202</td>\n",
       "    </tr>\n",
       "    <tr>\n",
       "      <th>41</th>\n",
       "      <td>Foto</td>\n",
       "      <td>2022-02-22</td>\n",
       "      <td>12530</td>\n",
       "      <td>90</td>\n",
       "      <td>NaN</td>\n",
       "      <td>S</td>\n",
       "      <td>N</td>\n",
       "      <td>N</td>\n",
       "      <td>12620</td>\n",
       "      <td>202202</td>\n",
       "    </tr>\n",
       "    <tr>\n",
       "      <th>36</th>\n",
       "      <td>Foto</td>\n",
       "      <td>2022-02-12</td>\n",
       "      <td>11802</td>\n",
       "      <td>102</td>\n",
       "      <td>Produtos</td>\n",
       "      <td>S</td>\n",
       "      <td>S</td>\n",
       "      <td>N</td>\n",
       "      <td>11904</td>\n",
       "      <td>202202</td>\n",
       "    </tr>\n",
       "    <tr>\n",
       "      <th>32</th>\n",
       "      <td>IGTV</td>\n",
       "      <td>2022-02-04</td>\n",
       "      <td>9270</td>\n",
       "      <td>222</td>\n",
       "      <td>Dicas de como usar/Produtos</td>\n",
       "      <td>S</td>\n",
       "      <td>N</td>\n",
       "      <td>N</td>\n",
       "      <td>9492</td>\n",
       "      <td>202202</td>\n",
       "    </tr>\n",
       "    <tr>\n",
       "      <th>35</th>\n",
       "      <td>IGTV</td>\n",
       "      <td>2022-02-10</td>\n",
       "      <td>8556</td>\n",
       "      <td>188</td>\n",
       "      <td>Dicas de como usar/Produtos</td>\n",
       "      <td>S</td>\n",
       "      <td>N</td>\n",
       "      <td>N</td>\n",
       "      <td>8744</td>\n",
       "      <td>202202</td>\n",
       "    </tr>\n",
       "    <tr>\n",
       "      <th>42</th>\n",
       "      <td>Foto</td>\n",
       "      <td>2022-02-26</td>\n",
       "      <td>8544</td>\n",
       "      <td>72</td>\n",
       "      <td>Influenciadores</td>\n",
       "      <td>S</td>\n",
       "      <td>S</td>\n",
       "      <td>N</td>\n",
       "      <td>8616</td>\n",
       "      <td>202202</td>\n",
       "    </tr>\n",
       "  </tbody>\n",
       "</table>\n",
       "</div>"
      ],
      "text/plain": [
       "     Tipo       Data  Curtidas  Comentários  \\\n",
       "48   Foto 2022-03-20     29084          479   \n",
       "43   Foto 2022-03-04     24399          266   \n",
       "45  Reels 2022-03-08     19621          275   \n",
       "50   Foto 2022-03-26     16551          186   \n",
       "49   Foto 2022-03-22      9087          106   \n",
       "44   IGTV 2022-03-07      5918          116   \n",
       "47   IGTV 2022-03-12      5489           77   \n",
       "51   IGTV 2022-03-27      4934           65   \n",
       "46   Foto 2022-03-09      4613           50   \n",
       "39   Foto 2022-02-17     37351          502   \n",
       "33   Foto 2022-02-06     24655          186   \n",
       "40   Foto 2022-02-21     21621          213   \n",
       "34   Foto 2022-02-09     20660          292   \n",
       "38   Foto 2022-02-15     17687          213   \n",
       "37  Vídeo 2022-02-13     15219          357   \n",
       "41   Foto 2022-02-22     12530           90   \n",
       "36   Foto 2022-02-12     11802          102   \n",
       "32   IGTV 2022-02-04      9270          222   \n",
       "35   IGTV 2022-02-10      8556          188   \n",
       "42   Foto 2022-02-26      8544           72   \n",
       "\n",
       "                                 Tags Pessoas Campanhas Carrossel  \\\n",
       "48      Datas comemorativas/Promoções       S         S         N   \n",
       "43                                NaN       S         S         N   \n",
       "45                             Trends       S         S         N   \n",
       "50                                NaN       S         N         N   \n",
       "49                                NaN       S         S         N   \n",
       "44  Dicas de como usar/Novos Produtos       S         N         N   \n",
       "47  Dicas de como usar/Novos Produtos       S         N         N   \n",
       "51        Dicas de como usar/Produtos       S         N         N   \n",
       "46                    Influenciadores       S         N         N   \n",
       "39                          Promoções       S         S         N   \n",
       "33                    Influenciadores       S         S         N   \n",
       "40                    Influenciadores       S         S         S   \n",
       "34                    Influenciadores       S         S         N   \n",
       "38                                NaN       S         N         N   \n",
       "37                Datas comemorativas       S         S         N   \n",
       "41                                NaN       S         N         N   \n",
       "36                           Produtos       S         S         N   \n",
       "32        Dicas de como usar/Produtos       S         N         N   \n",
       "35        Dicas de como usar/Produtos       S         N         N   \n",
       "42                    Influenciadores       S         S         N   \n",
       "\n",
       "    Interacoes      mes  \n",
       "48        29563  202203  \n",
       "43        24665  202203  \n",
       "45        19896  202203  \n",
       "50        16737  202203  \n",
       "49         9193  202203  \n",
       "44         6034  202203  \n",
       "47         5566  202203  \n",
       "51         4999  202203  \n",
       "46         4663  202203  \n",
       "39        37853  202202  \n",
       "33        24841  202202  \n",
       "40        21834  202202  \n",
       "34        20952  202202  \n",
       "38        17900  202202  \n",
       "37        15576  202202  \n",
       "41        12620  202202  \n",
       "36        11904  202202  \n",
       "32         9492  202202  \n",
       "35         8744  202202  \n",
       "42         8616  202202  "
      ]
     },
     "execution_count": 60,
     "metadata": {},
     "output_type": "execute_result"
    }
   ],
   "source": [
    "base[(base.mes >= 202202)].sort_values([\"mes\",\"Curtidas\"],ascending=False)"
   ]
  },
  {
   "cell_type": "markdown",
   "metadata": {},
   "source": [
    "**Aconteceu um post patrocinado que aumentou muito as vendas de fevereiro**\n",
    "<br>\n",
    "**Foi a única vez que tivemos post patrocinado? Vamos buscar isso nas tags**\n",
    "- Podemos usar o contains para procurar a palavra patrocinado nas tags\n",
    "    - Porém o contains não aceita se tiver valores NaN, então precisamos tratar isso antes"
   ]
  },
  {
   "cell_type": "code",
   "execution_count": 61,
   "metadata": {},
   "outputs": [
    {
     "ename": "ValueError",
     "evalue": "Cannot mask with non-boolean array containing NA / NaN values",
     "output_type": "error",
     "traceback": [
      "\u001b[1;31m---------------------------------------------------------------------------\u001b[0m",
      "\u001b[1;31mValueError\u001b[0m                                Traceback (most recent call last)",
      "Input \u001b[1;32mIn [61]\u001b[0m, in \u001b[0;36m<cell line: 2>\u001b[1;34m()\u001b[0m\n\u001b[0;32m      1\u001b[0m \u001b[38;5;66;03m# Tentando usar o contains sem tratar os valores NaN\u001b[39;00m\n\u001b[1;32m----> 2\u001b[0m \u001b[43mbase\u001b[49m\u001b[43m[\u001b[49m\u001b[43mbase\u001b[49m\u001b[38;5;241;43m.\u001b[39;49m\u001b[43mTags\u001b[49m\u001b[38;5;241;43m.\u001b[39;49m\u001b[43mstr\u001b[49m\u001b[38;5;241;43m.\u001b[39;49m\u001b[43mcontains\u001b[49m\u001b[43m(\u001b[49m\u001b[38;5;124;43m\"\u001b[39;49m\u001b[38;5;124;43mPromoções\u001b[39;49m\u001b[38;5;124;43m\"\u001b[39;49m\u001b[43m)\u001b[49m\u001b[43m]\u001b[49m\n",
      "File \u001b[1;32m~\\anaconda3\\lib\\site-packages\\pandas\\core\\frame.py:3495\u001b[0m, in \u001b[0;36mDataFrame.__getitem__\u001b[1;34m(self, key)\u001b[0m\n\u001b[0;32m   3492\u001b[0m     \u001b[38;5;28;01mreturn\u001b[39;00m \u001b[38;5;28mself\u001b[39m\u001b[38;5;241m.\u001b[39mwhere(key)\n\u001b[0;32m   3494\u001b[0m \u001b[38;5;66;03m# Do we have a (boolean) 1d indexer?\u001b[39;00m\n\u001b[1;32m-> 3495\u001b[0m \u001b[38;5;28;01mif\u001b[39;00m \u001b[43mcom\u001b[49m\u001b[38;5;241;43m.\u001b[39;49m\u001b[43mis_bool_indexer\u001b[49m\u001b[43m(\u001b[49m\u001b[43mkey\u001b[49m\u001b[43m)\u001b[49m:\n\u001b[0;32m   3496\u001b[0m     \u001b[38;5;28;01mreturn\u001b[39;00m \u001b[38;5;28mself\u001b[39m\u001b[38;5;241m.\u001b[39m_getitem_bool_array(key)\n\u001b[0;32m   3498\u001b[0m \u001b[38;5;66;03m# We are left with two options: a single key, and a collection of keys,\u001b[39;00m\n\u001b[0;32m   3499\u001b[0m \u001b[38;5;66;03m# We interpret tuples as collections only for non-MultiIndex\u001b[39;00m\n",
      "File \u001b[1;32m~\\anaconda3\\lib\\site-packages\\pandas\\core\\common.py:144\u001b[0m, in \u001b[0;36mis_bool_indexer\u001b[1;34m(key)\u001b[0m\n\u001b[0;32m    140\u001b[0m     na_msg \u001b[38;5;241m=\u001b[39m \u001b[38;5;124m\"\u001b[39m\u001b[38;5;124mCannot mask with non-boolean array containing NA / NaN values\u001b[39m\u001b[38;5;124m\"\u001b[39m\n\u001b[0;32m    141\u001b[0m     \u001b[38;5;28;01mif\u001b[39;00m lib\u001b[38;5;241m.\u001b[39minfer_dtype(key) \u001b[38;5;241m==\u001b[39m \u001b[38;5;124m\"\u001b[39m\u001b[38;5;124mboolean\u001b[39m\u001b[38;5;124m\"\u001b[39m \u001b[38;5;129;01mand\u001b[39;00m isna(key)\u001b[38;5;241m.\u001b[39many():\n\u001b[0;32m    142\u001b[0m         \u001b[38;5;66;03m# Don't raise on e.g. [\"A\", \"B\", np.nan], see\u001b[39;00m\n\u001b[0;32m    143\u001b[0m         \u001b[38;5;66;03m#  test_loc_getitem_list_of_labels_categoricalindex_with_na\u001b[39;00m\n\u001b[1;32m--> 144\u001b[0m         \u001b[38;5;28;01mraise\u001b[39;00m \u001b[38;5;167;01mValueError\u001b[39;00m(na_msg)\n\u001b[0;32m    145\u001b[0m     \u001b[38;5;28;01mreturn\u001b[39;00m \u001b[38;5;28;01mFalse\u001b[39;00m\n\u001b[0;32m    146\u001b[0m \u001b[38;5;28;01mreturn\u001b[39;00m \u001b[38;5;28;01mTrue\u001b[39;00m\n",
      "\u001b[1;31mValueError\u001b[0m: Cannot mask with non-boolean array containing NA / NaN values"
     ]
    }
   ],
   "source": [
    "# Tentando usar o contains sem tratar os valores NaN\n",
    "base[base.Tags.str.contains(\"Promoções\")]"
   ]
  },
  {
   "cell_type": "code",
   "execution_count": null,
   "metadata": {},
   "outputs": [],
   "source": [
    "# O `.fillna()` vai substituir os valores NaN pelo novo valor que passarmos\n",
    "base.fillna(\"\").tail()"
   ]
  },
  {
   "cell_type": "code",
   "execution_count": 64,
   "metadata": {},
   "outputs": [
    {
     "data": {
      "text/html": [
       "<div>\n",
       "<style scoped>\n",
       "    .dataframe tbody tr th:only-of-type {\n",
       "        vertical-align: middle;\n",
       "    }\n",
       "\n",
       "    .dataframe tbody tr th {\n",
       "        vertical-align: top;\n",
       "    }\n",
       "\n",
       "    .dataframe thead th {\n",
       "        text-align: right;\n",
       "    }\n",
       "</style>\n",
       "<table border=\"1\" class=\"dataframe\">\n",
       "  <thead>\n",
       "    <tr style=\"text-align: right;\">\n",
       "      <th></th>\n",
       "      <th>Tipo</th>\n",
       "      <th>Data</th>\n",
       "      <th>Curtidas</th>\n",
       "      <th>Comentários</th>\n",
       "      <th>Tags</th>\n",
       "      <th>Pessoas</th>\n",
       "      <th>Campanhas</th>\n",
       "      <th>Carrossel</th>\n",
       "      <th>Interacoes</th>\n",
       "      <th>mes</th>\n",
       "    </tr>\n",
       "  </thead>\n",
       "  <tbody>\n",
       "  </tbody>\n",
       "</table>\n",
       "</div>"
      ],
      "text/plain": [
       "Empty DataFrame\n",
       "Columns: [Tipo, Data, Curtidas, Comentários, Tags, Pessoas, Campanhas, Carrossel, Interacoes , mes]\n",
       "Index: []"
      ]
     },
     "execution_count": 64,
     "metadata": {},
     "output_type": "execute_result"
    }
   ],
   "source": [
    "# Então podemos usar o vazio apenas para visualizar todas as tags que possuem marcação de patrocinado\n",
    "base[base.fillna(\"\").Tags.str.contains(\"Promoções\")]"
   ]
  },
  {
   "cell_type": "code",
   "execution_count": 63,
   "metadata": {},
   "outputs": [],
   "source": [
    "# Apagando a linha do post patrocinado\n",
    "base = base.drop([13,39,48],axis=0)"
   ]
  },
  {
   "cell_type": "code",
   "execution_count": 42,
   "metadata": {},
   "outputs": [
    {
     "data": {
      "image/png": "[encoded data removed]",
      "text/plain": [
       "<Figure size 432x288 with 1 Axes>"
      ]
     },
     "metadata": {
      "needs_background": "light"
     },
     "output_type": "display_data"
    }
   ],
   "source": [
    "# Refazendo os cálculos pra base sem o post patrocinado e refazendo o plot\n",
    "media_mensal = base.groupby(\"mes\")[\"Curtidas\"].mean()\n",
    "minimo = base.groupby(\"mes\")[\"Curtidas\"].min()\n",
    "maximo = base.groupby(\"mes\")[\"Curtidas\"].max()\n",
    "\n",
    "# make data\n",
    "x = media_mensal.index.astype(str)\n",
    "y = media_mensal.values\n",
    "x1 = minimo.index.astype(str)\n",
    "y1 = minimo.values\n",
    "x2 = maximo.index.astype(str)\n",
    "y2 = maximo.values\n",
    "\n",
    "# plot\n",
    "fig, ax = plt.subplots()\n",
    "\n",
    "ax.plot(x, y, linewidth=2.0)\n",
    "ax.plot(x1, y1, linewidth=2.0, color=\"r\")\n",
    "ax.plot(x2, y2, linewidth=2.0, color='g')\n",
    "\n",
    "\n",
    "plt.show()"
   ]
  },
  {
   "cell_type": "markdown",
   "metadata": {},
   "source": [
    "### Como podemos visualizar as tags que mais impactaram o negócio?"
   ]
  },
  {
   "cell_type": "code",
   "execution_count": 65,
   "metadata": {},
   "outputs": [
    {
     "data": {
      "text/html": [
       "<div>\n",
       "<style scoped>\n",
       "    .dataframe tbody tr th:only-of-type {\n",
       "        vertical-align: middle;\n",
       "    }\n",
       "\n",
       "    .dataframe tbody tr th {\n",
       "        vertical-align: top;\n",
       "    }\n",
       "\n",
       "    .dataframe thead th {\n",
       "        text-align: right;\n",
       "    }\n",
       "</style>\n",
       "<table border=\"1\" class=\"dataframe\">\n",
       "  <thead>\n",
       "    <tr style=\"text-align: right;\">\n",
       "      <th></th>\n",
       "      <th>Tipo</th>\n",
       "      <th>Data</th>\n",
       "      <th>Curtidas</th>\n",
       "      <th>Comentários</th>\n",
       "      <th>Tags</th>\n",
       "      <th>Pessoas</th>\n",
       "      <th>Campanhas</th>\n",
       "      <th>Carrossel</th>\n",
       "      <th>Interacoes</th>\n",
       "      <th>mes</th>\n",
       "    </tr>\n",
       "  </thead>\n",
       "  <tbody>\n",
       "    <tr>\n",
       "      <th>0</th>\n",
       "      <td>Foto</td>\n",
       "      <td>2021-09-11</td>\n",
       "      <td>2858</td>\n",
       "      <td>16</td>\n",
       "      <td>Loja</td>\n",
       "      <td>N</td>\n",
       "      <td>N</td>\n",
       "      <td>N</td>\n",
       "      <td>2874</td>\n",
       "      <td>202109</td>\n",
       "    </tr>\n",
       "    <tr>\n",
       "      <th>1</th>\n",
       "      <td>Foto</td>\n",
       "      <td>2021-09-11</td>\n",
       "      <td>2930</td>\n",
       "      <td>28</td>\n",
       "      <td>Loja/Produtos</td>\n",
       "      <td>N</td>\n",
       "      <td>N</td>\n",
       "      <td>N</td>\n",
       "      <td>2958</td>\n",
       "      <td>202109</td>\n",
       "    </tr>\n",
       "    <tr>\n",
       "      <th>2</th>\n",
       "      <td>Foto</td>\n",
       "      <td>2021-09-11</td>\n",
       "      <td>2807</td>\n",
       "      <td>9</td>\n",
       "      <td>Loja</td>\n",
       "      <td>N</td>\n",
       "      <td>N</td>\n",
       "      <td>N</td>\n",
       "      <td>2816</td>\n",
       "      <td>202109</td>\n",
       "    </tr>\n",
       "    <tr>\n",
       "      <th>3</th>\n",
       "      <td>Vídeo</td>\n",
       "      <td>2021-09-12</td>\n",
       "      <td>5115</td>\n",
       "      <td>49</td>\n",
       "      <td>Produtos</td>\n",
       "      <td>N</td>\n",
       "      <td>N</td>\n",
       "      <td>N</td>\n",
       "      <td>5164</td>\n",
       "      <td>202109</td>\n",
       "    </tr>\n",
       "    <tr>\n",
       "      <th>4</th>\n",
       "      <td>Foto</td>\n",
       "      <td>2021-09-13</td>\n",
       "      <td>4392</td>\n",
       "      <td>45</td>\n",
       "      <td>Produtos</td>\n",
       "      <td>S</td>\n",
       "      <td>N</td>\n",
       "      <td>N</td>\n",
       "      <td>4437</td>\n",
       "      <td>202109</td>\n",
       "    </tr>\n",
       "  </tbody>\n",
       "</table>\n",
       "</div>"
      ],
      "text/plain": [
       "    Tipo       Data  Curtidas  Comentários           Tags Pessoas Campanhas  \\\n",
       "0   Foto 2021-09-11      2858           16           Loja       N         N   \n",
       "1   Foto 2021-09-11      2930           28  Loja/Produtos       N         N   \n",
       "2   Foto 2021-09-11      2807            9           Loja       N         N   \n",
       "3  Vídeo 2021-09-12      5115           49       Produtos       N         N   \n",
       "4   Foto 2021-09-13      4392           45       Produtos       S         N   \n",
       "\n",
       "  Carrossel  Interacoes      mes  \n",
       "0         N         2874  202109  \n",
       "1         N         2958  202109  \n",
       "2         N         2816  202109  \n",
       "3         N         5164  202109  \n",
       "4         N         4437  202109  "
      ]
     },
     "execution_count": 65,
     "metadata": {},
     "output_type": "execute_result"
    }
   ],
   "source": [
    "base.head()"
   ]
  },
  {
   "cell_type": "code",
   "execution_count": 66,
   "metadata": {},
   "outputs": [
    {
     "data": {
      "text/html": [
       "<div>\n",
       "<style scoped>\n",
       "    .dataframe tbody tr th:only-of-type {\n",
       "        vertical-align: middle;\n",
       "    }\n",
       "\n",
       "    .dataframe tbody tr th {\n",
       "        vertical-align: top;\n",
       "    }\n",
       "\n",
       "    .dataframe thead th {\n",
       "        text-align: right;\n",
       "    }\n",
       "</style>\n",
       "<table border=\"1\" class=\"dataframe\">\n",
       "  <thead>\n",
       "    <tr style=\"text-align: right;\">\n",
       "      <th></th>\n",
       "      <th>Tipo</th>\n",
       "      <th>Data</th>\n",
       "      <th>Curtidas</th>\n",
       "      <th>Comentários</th>\n",
       "      <th>Tags</th>\n",
       "      <th>Pessoas</th>\n",
       "      <th>Campanhas</th>\n",
       "      <th>Carrossel</th>\n",
       "      <th>Interacoes</th>\n",
       "      <th>mes</th>\n",
       "    </tr>\n",
       "  </thead>\n",
       "  <tbody>\n",
       "    <tr>\n",
       "      <th>0</th>\n",
       "      <td>Foto</td>\n",
       "      <td>2021-09-11</td>\n",
       "      <td>2858</td>\n",
       "      <td>16</td>\n",
       "      <td>Loja</td>\n",
       "      <td>N</td>\n",
       "      <td>N</td>\n",
       "      <td>N</td>\n",
       "      <td>2874</td>\n",
       "      <td>202109</td>\n",
       "    </tr>\n",
       "    <tr>\n",
       "      <th>1</th>\n",
       "      <td>Foto</td>\n",
       "      <td>2021-09-11</td>\n",
       "      <td>2930</td>\n",
       "      <td>28</td>\n",
       "      <td>Loja</td>\n",
       "      <td>N</td>\n",
       "      <td>N</td>\n",
       "      <td>N</td>\n",
       "      <td>2958</td>\n",
       "      <td>202109</td>\n",
       "    </tr>\n",
       "    <tr>\n",
       "      <th>1</th>\n",
       "      <td>Foto</td>\n",
       "      <td>2021-09-11</td>\n",
       "      <td>2930</td>\n",
       "      <td>28</td>\n",
       "      <td>Produtos</td>\n",
       "      <td>N</td>\n",
       "      <td>N</td>\n",
       "      <td>N</td>\n",
       "      <td>2958</td>\n",
       "      <td>202109</td>\n",
       "    </tr>\n",
       "    <tr>\n",
       "      <th>2</th>\n",
       "      <td>Foto</td>\n",
       "      <td>2021-09-11</td>\n",
       "      <td>2807</td>\n",
       "      <td>9</td>\n",
       "      <td>Loja</td>\n",
       "      <td>N</td>\n",
       "      <td>N</td>\n",
       "      <td>N</td>\n",
       "      <td>2816</td>\n",
       "      <td>202109</td>\n",
       "    </tr>\n",
       "    <tr>\n",
       "      <th>3</th>\n",
       "      <td>Vídeo</td>\n",
       "      <td>2021-09-12</td>\n",
       "      <td>5115</td>\n",
       "      <td>49</td>\n",
       "      <td>Produtos</td>\n",
       "      <td>N</td>\n",
       "      <td>N</td>\n",
       "      <td>N</td>\n",
       "      <td>5164</td>\n",
       "      <td>202109</td>\n",
       "    </tr>\n",
       "  </tbody>\n",
       "</table>\n",
       "</div>"
      ],
      "text/plain": [
       "    Tipo       Data  Curtidas  Comentários      Tags Pessoas Campanhas  \\\n",
       "0   Foto 2021-09-11      2858           16      Loja       N         N   \n",
       "1   Foto 2021-09-11      2930           28      Loja       N         N   \n",
       "1   Foto 2021-09-11      2930           28  Produtos       N         N   \n",
       "2   Foto 2021-09-11      2807            9      Loja       N         N   \n",
       "3  Vídeo 2021-09-12      5115           49  Produtos       N         N   \n",
       "\n",
       "  Carrossel  Interacoes      mes  \n",
       "0         N         2874  202109  \n",
       "1         N         2958  202109  \n",
       "1         N         2958  202109  \n",
       "2         N         2816  202109  \n",
       "3         N         5164  202109  "
      ]
     },
     "execution_count": 66,
     "metadata": {},
     "output_type": "execute_result"
    }
   ],
   "source": [
    "baseTags = base\n",
    "baseTags.Tags = baseTags.Tags.str.split(\"/\")\n",
    "baseTags = baseTags.explode('Tags')\n",
    "baseTags.head()"
   ]
  },
  {
   "cell_type": "code",
   "execution_count": 67,
   "metadata": {},
   "outputs": [
    {
     "data": {
      "text/plain": [
       "Tags\n",
       "Datas comemorativas    17975.000000\n",
       "Dicas de como usar      6833.400000\n",
       "Influenciadores        15197.285714\n",
       "Loja                    2865.000000\n",
       "Novos Produtos         10304.888889\n",
       "Produtos                6269.823529\n",
       "Trends                 20024.000000\n",
       "Name: Curtidas, dtype: float64"
      ]
     },
     "execution_count": 67,
     "metadata": {},
     "output_type": "execute_result"
    }
   ],
   "source": [
    "baseTags.groupby(\"Tags\")[\"Curtidas\"].mean()"
   ]
  },
  {
   "cell_type": "code",
   "execution_count": 68,
   "metadata": {},
   "outputs": [
    {
     "data": {
      "image/png": "[encoded data removed]",
      "text/plain": [
       "<Figure size 432x288 with 1 Axes>"
      ]
     },
     "metadata": {
      "needs_background": "light"
     },
     "output_type": "display_data"
    }
   ],
   "source": [
    "# Fazendo o plot para tags\n",
    "media = baseTags.groupby(\"Tags\")[\"Curtidas\"].mean().sort_values(ascending=False)\n",
    "\n",
    "# make data\n",
    "x = media.index\n",
    "y = media.values\n",
    "\n",
    "# plot\n",
    "fig, ax = plt.subplots()\n",
    "\n",
    "ax.plot(x, y, linewidth=2.0)\n",
    "\n",
    "plt.show()"
   ]
  },
  {
   "cell_type": "markdown",
   "metadata": {},
   "source": [
    "## Criando um bar plot no matplotlib\n",
    "- https://matplotlib.org/stable/plot_types/basic/bar.html#sphx-glr-plot-types-basic-bar-py"
   ]
  },
  {
   "cell_type": "code",
   "execution_count": 72,
   "metadata": {},
   "outputs": [
    {
     "data": {
      "image/png": "[encoded data removed]",
      "text/plain": [
       "<Figure size 432x288 with 1 Axes>"
      ]
     },
     "metadata": {
      "needs_background": "light"
     },
     "output_type": "display_data"
    }
   ],
   "source": [
    "import matplotlib.pyplot as plt\n",
    "import numpy as np\n",
    "\n",
    "# make data:\n",
    "np.random.seed(3)\n",
    "x = 0.5 + np.arange(8)\n",
    "y = np.random.uniform(2, 7, len(x))\n",
    "\n",
    "# plot\n",
    "fig, ax = plt.subplots()\n",
    "\n",
    "ax.bar(x, y, width=1, edgecolor=\"white\", linewidth=0.7)\n",
    "\n",
    "ax.set(xlim=(0, 8), xticks=np.arange(0, 9),\n",
    "       ylim=(0, 8), yticks=np.arange(1, 9))\n",
    "\n",
    "plt.show()"
   ]
  },
  {
   "cell_type": "code",
   "execution_count": 86,
   "metadata": {},
   "outputs": [
    {
     "data": {
      "image/png": "[encoded data removed]",
      "text/plain": [
       "<Figure size 432x288 with 1 Axes>"
      ]
     },
     "metadata": {
      "needs_background": "light"
     },
     "output_type": "display_data"
    }
   ],
   "source": [
    "# Fazendo o plot para tags\n",
    "media = baseTags.groupby(\"Tags\")[\"Curtidas\"].mean().sort_values(ascending=False)\n",
    "\n",
    "# make data\n",
    "x = media.index\n",
    "y = media.values\n",
    "\n",
    "# plot\n",
    "fig, ax = plt.subplots()\n",
    "\n",
    "ax.bar(x, y, linewidth=2.0)\n",
    "\n",
    "plt.show()"
   ]
  },
  {
   "cell_type": "markdown",
   "metadata": {},
   "source": [
    "## Ajustando o eixo X\n",
    "- https://matplotlib.org/stable/tutorials/introductory/usage.html\n",
    "\n",
    "![](https://matplotlib.org/stable/_images/anatomy.png)"
   ]
  },
  {
   "cell_type": "markdown",
   "metadata": {},
   "source": [
    "#### Para ajustar o eixo x, vamos usar o tick_params\n",
    "- https://matplotlib.org/3.5.0/api/_as_gen/matplotlib.axes.Axes.tick_params.html"
   ]
  },
  {
   "cell_type": "code",
   "execution_count": 84,
   "metadata": {},
   "outputs": [
    {
     "data": {
      "image/png": "[encoded data removed]",
      "text/plain": [
       "<Figure size 432x288 with 1 Axes>"
      ]
     },
     "metadata": {
      "needs_background": "light"
     },
     "output_type": "display_data"
    }
   ],
   "source": [
    "# plot\n",
    "fig, ax = plt.subplots()\n",
    "\n",
    "ax.bar(x, y, label=\"curtidas\")\n",
    "\n",
    "# Rotacionando as legendas\n",
    "ax.tick_params('x',labelrotation=80)\n",
    "\n",
    "# Adicionando a legenda\n",
    "ax.legend()\n",
    "\n",
    "plt.show()"
   ]
  },
  {
   "cell_type": "markdown",
   "metadata": {},
   "source": [
    "## Inserindo as quantidades de curtida nos gráficos\n",
    "- Para isso, vamos usar o annotate\n",
    "    - https://matplotlib.org/3.5.0/api/_as_gen/matplotlib.pyplot.annotate.html\n",
    "    - Com ele você consegue colocar qualquer texto no seu gráfico\n",
    "    - Basta usar: `plt.annotate(\"TEXTO\",(x,y))`\n",
    "- Precisamos passar de argumentos:\n",
    "    - texto que vai ser escrito\n",
    "    - Posição (x,y) onde o texto vai estar"
   ]
  },
  {
   "cell_type": "code",
   "execution_count": 94,
   "metadata": {},
   "outputs": [
    {
     "data": {
      "text/plain": [
       "array([20024.        , 17975.        , 15197.28571429, 10304.88888889,\n",
       "        6833.4       ,  6269.82352941,  2865.        ])"
      ]
     },
     "execution_count": 94,
     "metadata": {},
     "output_type": "execute_result"
    }
   ],
   "source": [
    "y"
   ]
  },
  {
   "cell_type": "code",
   "execution_count": 100,
   "metadata": {},
   "outputs": [
    {
     "data": {
      "image/png": "[encoded data removed]",
      "text/plain": [
       "<Figure size 432x288 with 1 Axes>"
      ]
     },
     "metadata": {
      "needs_background": "light"
     },
     "output_type": "display_data"
    }
   ],
   "source": [
    "# plot\n",
    "fig, ax = plt.subplots()\n",
    "\n",
    "ax.bar(x, y, label=\"curtidas\")\n",
    "ax.tick_params('x',labelrotation=75)\n",
    "ax.legend()\n",
    "\n",
    "# Colocando somente o primeiro valor no gráfico\n",
    "plt.annotate(20024,(0-0.35,20024))\n",
    "plt.annotate(17975,(1-0.35,17975))\n",
    "plt.annotate(15197,(2-0.35,15197))\n",
    "plt.annotate(10304,(3-0.35,10304))\n",
    "plt.annotate(6833,(4-0.35,6833))\n",
    "plt.annotate(6269,(5-0.35,6269))\n",
    "plt.annotate(2865,(6-0.35,2865))\n",
    "\n",
    "plt.show()"
   ]
  },
  {
   "cell_type": "code",
   "execution_count": 90,
   "metadata": {},
   "outputs": [
    {
     "data": {
      "image/png": "[encoded data removed]",
      "text/plain": [
       "<Figure size 432x288 with 1 Axes>"
      ]
     },
     "metadata": {
      "needs_background": "light"
     },
     "output_type": "display_data"
    }
   ],
   "source": [
    "# plot\n",
    "fig, ax = plt.subplots()\n",
    "\n",
    "ax.bar(x, y, label=\"curtidas\")\n",
    "ax.tick_params('x',labelrotation=75)\n",
    "ax.legend()\n",
    "\n",
    "# Colocando os valores nos gráficos\n",
    "## Precisamos fazer um loop para ir colocando os valores em cada uma das barras\n",
    "for i in np.arange(0,len(x)):\n",
    "    plt.annotate(y[i],(i,y[i]))\n",
    "\n",
    "plt.show()"
   ]
  },
  {
   "cell_type": "code",
   "execution_count": 113,
   "metadata": {},
   "outputs": [
    {
     "data": {
      "image/png": "[encoded data removed]",
      "text/plain": [
       "<Figure size 432x288 with 1 Axes>"
      ]
     },
     "metadata": {
      "needs_background": "light"
     },
     "output_type": "display_data"
    }
   ],
   "source": [
    "#### Melhorando a formatação do annotate\n",
    "# plot\n",
    "fig, ax = plt.subplots()\n",
    "\n",
    "ax.bar(x, y, label=\"curtidas\")\n",
    "ax.tick_params('x',labelrotation=75)\n",
    "ax.legend()\n",
    "\n",
    "# Colocando os valores nos gráficos\n",
    "## Precisamos fazer um loop para ir colocando os valores em cada uma das barras\n",
    "for i in np.arange(0,len(x)):\n",
    "    plt.annotate('{:,.0f}'.format(y[i]), # formatando o número\n",
    "                 (i,y[i]), # colocando a posição do elemento \n",
    "                 # outros parâmetros\n",
    "                 ha=\"center\", # alinhamento horizontal\n",
    "                 xytext=(0,5), # deslocamento x,y do texto\n",
    "                 textcoords=\"offset points\" # referencial que vamos fazer o deslocamento\n",
    "                )\n",
    "\n",
    "ax.set(ylim=(0, 25000))\n",
    "\n",
    "plt.show()"
   ]
  },
  {
   "cell_type": "markdown",
   "metadata": {},
   "source": [
    "## Criando um scatter plot usando apenas a documentação\n",
    "- https://matplotlib.org/\n",
    "    - Plot Types\n",
    "    - scatter(x,y)"
   ]
  },
  {
   "cell_type": "code",
   "execution_count": 115,
   "metadata": {},
   "outputs": [
    {
     "data": {
      "image/png": "[encoded data removed]",
      "text/plain": [
       "<Figure size 432x288 with 1 Axes>"
      ]
     },
     "metadata": {
      "needs_background": "light"
     },
     "output_type": "display_data"
    }
   ],
   "source": [
    "# make the data\n",
    "np.random.seed(3)\n",
    "x = 4 + np.random.normal(0, 2, 24)\n",
    "y = 4 + np.random.normal(0, 2, len(x))\n",
    "# size and color:\n",
    "sizes = np.random.uniform(15, 80, len(x))\n",
    "colors = np.random.uniform(15, 80, len(x))\n",
    "\n",
    "# plot\n",
    "fig, ax = plt.subplots()\n",
    "\n",
    "ax.scatter(x, y, s=sizes, c=colors, vmin=0, vmax=100)\n",
    "\n",
    "ax.set(xlim=(0, 8), xticks=np.arange(1, 8),\n",
    "       ylim=(0, 8), yticks=np.arange(1, 8))\n",
    "\n",
    "plt.show()"
   ]
  },
  {
   "cell_type": "code",
   "execution_count": 116,
   "metadata": {},
   "outputs": [],
   "source": [
    "# Na parte dos dados, a gente pode usar a relação de curtidas x comentários\n",
    "x = base.Curtidas\n",
    "y = base.Comentários"
   ]
  },
  {
   "cell_type": "code",
   "execution_count": 117,
   "metadata": {},
   "outputs": [
    {
     "data": {
      "image/png": "[encoded data removed]",
      "text/plain": [
       "<Figure size 432x288 with 1 Axes>"
      ]
     },
     "metadata": {
      "needs_background": "light"
     },
     "output_type": "display_data"
    }
   ],
   "source": [
    "# Depois já podemos ir direto pro plot, usando apenas o básico\n",
    "fig, ax = plt.subplots()\n",
    "\n",
    "ax.scatter(x, y)\n",
    "\n",
    "plt.show()"
   ]
  },
  {
   "cell_type": "markdown",
   "metadata": {},
   "source": [
    "#### Podemos criar uma nova coluna para ser a cor baseado no tipo de publicação"
   ]
  },
  {
   "cell_type": "code",
   "execution_count": 118,
   "metadata": {},
   "outputs": [
    {
     "data": {
      "text/plain": [
       "array(['Foto', 'Vídeo', 'Reels', 'IGTV'], dtype=object)"
      ]
     },
     "execution_count": 118,
     "metadata": {},
     "output_type": "execute_result"
    }
   ],
   "source": [
    "base.Tipo.unique()"
   ]
  },
  {
   "cell_type": "code",
   "execution_count": 120,
   "metadata": {},
   "outputs": [],
   "source": [
    "def tipo_para_numero(tipo):\n",
    "    if(tipo == 'Foto'):\n",
    "        return 1\n",
    "    elif(tipo == 'Vídeo'):\n",
    "        return 2\n",
    "    elif(tipo == 'Reels'):\n",
    "        return 3\n",
    "    elif(tipo == 'IGTV'):\n",
    "        return 4"
   ]
  },
  {
   "cell_type": "code",
   "execution_count": 121,
   "metadata": {},
   "outputs": [],
   "source": [
    "base['NrTipo'] = base.Tipo.apply(tipo_para_numero)"
   ]
  },
  {
   "cell_type": "code",
   "execution_count": 122,
   "metadata": {},
   "outputs": [
    {
     "data": {
      "text/html": [
       "<div>\n",
       "<style scoped>\n",
       "    .dataframe tbody tr th:only-of-type {\n",
       "        vertical-align: middle;\n",
       "    }\n",
       "\n",
       "    .dataframe tbody tr th {\n",
       "        vertical-align: top;\n",
       "    }\n",
       "\n",
       "    .dataframe thead th {\n",
       "        text-align: right;\n",
       "    }\n",
       "</style>\n",
       "<table border=\"1\" class=\"dataframe\">\n",
       "  <thead>\n",
       "    <tr style=\"text-align: right;\">\n",
       "      <th></th>\n",
       "      <th>Tipo</th>\n",
       "      <th>Data</th>\n",
       "      <th>Curtidas</th>\n",
       "      <th>Comentários</th>\n",
       "      <th>Tags</th>\n",
       "      <th>Pessoas</th>\n",
       "      <th>Campanhas</th>\n",
       "      <th>Carrossel</th>\n",
       "      <th>Interacoes</th>\n",
       "      <th>mes</th>\n",
       "      <th>NrTipo</th>\n",
       "    </tr>\n",
       "  </thead>\n",
       "  <tbody>\n",
       "    <tr>\n",
       "      <th>0</th>\n",
       "      <td>Foto</td>\n",
       "      <td>2021-09-11</td>\n",
       "      <td>2858</td>\n",
       "      <td>16</td>\n",
       "      <td>[Loja]</td>\n",
       "      <td>N</td>\n",
       "      <td>N</td>\n",
       "      <td>N</td>\n",
       "      <td>2874</td>\n",
       "      <td>202109</td>\n",
       "      <td>1</td>\n",
       "    </tr>\n",
       "    <tr>\n",
       "      <th>1</th>\n",
       "      <td>Foto</td>\n",
       "      <td>2021-09-11</td>\n",
       "      <td>2930</td>\n",
       "      <td>28</td>\n",
       "      <td>[Loja, Produtos]</td>\n",
       "      <td>N</td>\n",
       "      <td>N</td>\n",
       "      <td>N</td>\n",
       "      <td>2958</td>\n",
       "      <td>202109</td>\n",
       "      <td>1</td>\n",
       "    </tr>\n",
       "    <tr>\n",
       "      <th>2</th>\n",
       "      <td>Foto</td>\n",
       "      <td>2021-09-11</td>\n",
       "      <td>2807</td>\n",
       "      <td>9</td>\n",
       "      <td>[Loja]</td>\n",
       "      <td>N</td>\n",
       "      <td>N</td>\n",
       "      <td>N</td>\n",
       "      <td>2816</td>\n",
       "      <td>202109</td>\n",
       "      <td>1</td>\n",
       "    </tr>\n",
       "    <tr>\n",
       "      <th>3</th>\n",
       "      <td>Vídeo</td>\n",
       "      <td>2021-09-12</td>\n",
       "      <td>5115</td>\n",
       "      <td>49</td>\n",
       "      <td>[Produtos]</td>\n",
       "      <td>N</td>\n",
       "      <td>N</td>\n",
       "      <td>N</td>\n",
       "      <td>5164</td>\n",
       "      <td>202109</td>\n",
       "      <td>2</td>\n",
       "    </tr>\n",
       "    <tr>\n",
       "      <th>4</th>\n",
       "      <td>Foto</td>\n",
       "      <td>2021-09-13</td>\n",
       "      <td>4392</td>\n",
       "      <td>45</td>\n",
       "      <td>[Produtos]</td>\n",
       "      <td>S</td>\n",
       "      <td>N</td>\n",
       "      <td>N</td>\n",
       "      <td>4437</td>\n",
       "      <td>202109</td>\n",
       "      <td>1</td>\n",
       "    </tr>\n",
       "  </tbody>\n",
       "</table>\n",
       "</div>"
      ],
      "text/plain": [
       "    Tipo       Data  Curtidas  Comentários              Tags Pessoas  \\\n",
       "0   Foto 2021-09-11      2858           16            [Loja]       N   \n",
       "1   Foto 2021-09-11      2930           28  [Loja, Produtos]       N   \n",
       "2   Foto 2021-09-11      2807            9            [Loja]       N   \n",
       "3  Vídeo 2021-09-12      5115           49        [Produtos]       N   \n",
       "4   Foto 2021-09-13      4392           45        [Produtos]       S   \n",
       "\n",
       "  Campanhas Carrossel  Interacoes      mes  NrTipo  \n",
       "0         N         N         2874  202109       1  \n",
       "1         N         N         2958  202109       1  \n",
       "2         N         N         2816  202109       1  \n",
       "3         N         N         5164  202109       2  \n",
       "4         N         N         4437  202109       1  "
      ]
     },
     "execution_count": 122,
     "metadata": {},
     "output_type": "execute_result"
    }
   ],
   "source": [
    "base.head()"
   ]
  },
  {
   "cell_type": "code",
   "execution_count": 123,
   "metadata": {},
   "outputs": [],
   "source": [
    "colors = base.NrTipo"
   ]
  },
  {
   "cell_type": "code",
   "execution_count": 124,
   "metadata": {
    "scrolled": true
   },
   "outputs": [
    {
     "data": {
      "image/png": "[encoded data removed]",
      "text/plain": [
       "<Figure size 432x288 with 1 Axes>"
      ]
     },
     "metadata": {
      "needs_background": "light"
     },
     "output_type": "display_data"
    }
   ],
   "source": [
    "# Depois já podemos ir direto pro plot, usando apenas o básico\n",
    "fig, ax = plt.subplots()\n",
    "\n",
    "ax.scatter(x, y, c=colors)\n",
    "\n",
    "plt.show()"
   ]
  },
  {
   "cell_type": "code",
   "execution_count": 125,
   "metadata": {},
   "outputs": [
    {
     "data": {
      "image/png": "[encoded data removed]",
      "text/plain": [
       "<Figure size 432x288 with 1 Axes>"
      ]
     },
     "metadata": {
      "needs_background": "light"
     },
     "output_type": "display_data"
    }
   ],
   "source": [
    "### DICA: Podemos também adicionar a legenda em relação a cada um dos pontos\n",
    "fig, ax = plt.subplots()\n",
    "\n",
    "scatter_plot = ax.scatter(x, y, c=colors)\n",
    "\n",
    "ax.legend(handles=scatter_plot.legend_elements()[0], labels=['Foto','Vídeo','Reels','IGTV'])\n",
    "    \n",
    "plt.show()"
   ]
  }
 ],
 "metadata": {
  "kernelspec": {
   "display_name": "Python 3 (ipykernel)",
   "language": "python",
   "name": "python3"
  },
  "language_info": {
   "codemirror_mode": {
    "name": "ipython",
    "version": 3
   },
   "file_extension": ".py",
   "mimetype": "text/x-python",
   "name": "python",
   "nbconvert_exporter": "python",
   "pygments_lexer": "ipython3",
   "version": "3.9.12"
  }
 },
 "nbformat": 4,
 "nbformat_minor": 4
}
